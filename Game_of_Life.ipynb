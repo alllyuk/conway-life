{
 "cells": [
  {
   "cell_type": "code",
   "execution_count": 25,
   "id": "edb539c0",
   "metadata": {},
   "outputs": [
    {
     "data": {
      "image/png": "[encoded data removed]",
      "text/plain": [
       "<Figure size 432x288 with 1 Axes>"
      ]
     },
     "metadata": {
      "needs_background": "light"
     },
     "output_type": "display_data"
    }
   ],
   "source": [
    "import numpy as np\n",
    "import matplotlib.pylab as plt\n",
    "from IPython.display import clear_output\n",
    "import random\n",
    "\n",
    "\n",
    "class cell:\n",
    "    def __init__(self, status):\n",
    "        self.status = status\n",
    "        \n",
    "    \n",
    "class field:\n",
    "    def __init__(self, size):\n",
    "        self.size = size\n",
    "        array = [[cell(random.choice([0, 1])) for i in range(size)] for j in range(size)] \n",
    "    \n",
    "        self.field = array\n",
    "    \n",
    "    \n",
    "    def update(self):\n",
    "        size = self.size\n",
    "        array = self.field\n",
    "        for koordx in range(size):\n",
    "            for koordy in range(size):\n",
    "                \n",
    "                cell = array[koordx][koordy]\n",
    "                \n",
    "                neighbours = (array[koordy-1][koordx].status + array[(koordy+1) % size][koordx].status +\n",
    "                    array[koordy][koordx-1].status +array[koordy][(koordx+1) % size].status +\n",
    "                    array[koordy-1][koordx-1].status + array[koordy-1][(koordx+1) % size].status +\n",
    "                    array[(koordy+1) % size][koordx-1].status + array[(koordy+1) % size][(koordx+1) % size].status)\n",
    "                \n",
    "                if cell.status == 1:\n",
    "                    if (neighbours == 2) or (neighbours == 3) :\n",
    "                        cell.status = 1\n",
    "                    else:\n",
    "                        cell.status = 0\n",
    "                        \n",
    "                elif cell.status == 0:\n",
    "                    if neighbours == 3:\n",
    "                        cell.status = 1\n",
    "                \n",
    "                \n",
    "n = 40 #количество итераций\n",
    "size = 40\n",
    "\n",
    "field = field(size)\n",
    "\n",
    "for e in range(n):\n",
    "    field.update()\n",
    "    size = field.size\n",
    "    \n",
    "    arr = [[field.field[i][j].status for i in range(size)] for j in range(size)]\n",
    "    \n",
    "    im = np.array(arr) # ааааа\n",
    "\n",
    "    plt.imshow(im, cmap='gray')\n",
    "    plt.show()\n",
    "    plt.pause(0.2)\n",
    "    clear_output(wait=True)\n"
   ]
  },
  {
   "cell_type": "code",
   "execution_count": null,
   "id": "0051e634",
   "metadata": {},
   "outputs": [],
   "source": []
  }
 ],
 "metadata": {
  "kernelspec": {
   "display_name": "Python 3",
   "language": "python",
   "name": "python3"
  },
  "language_info": {
   "codemirror_mode": {
    "name": "ipython",
    "version": 3
   },
   "file_extension": ".py",
   "mimetype": "text/x-python",
   "name": "python",
   "nbconvert_exporter": "python",
   "pygments_lexer": "ipython3",
   "version": "3.8.8"
  }
 },
 "nbformat": 4,
 "nbformat_minor": 5
}
